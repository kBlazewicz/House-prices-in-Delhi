{
 "cells": [
  {
   "cell_type": "markdown",
   "id": "2ecf1b48",
   "metadata": {},
   "source": [
    "### przedziały ufności"
   ]
  },
  {
   "cell_type": "code",
   "execution_count": 53,
   "id": "2d2d5a5b",
   "metadata": {},
   "outputs": [],
   "source": [
    "getMeanCIKnownSigma <- function(x, sigma, alpha){\n",
    "  n <- length(x)\n",
    "  return (c(mean(x) - qnorm(1 - alpha/2)*sigma/sqrt(n),\n",
    "            mean(x) + qnorm(1 - alpha/2)*sigma/sqrt(n)))\n",
    "}\n",
    "\n",
    "getMeanCI <- function(x, alpha, df=length(x)-1){\n",
    "  return (c(mean(x) - qt(1-alpha/2, df)*sqrt(var(x))/sqrt(length(x)),\n",
    "            mean(x) + qt(1-alpha/2, df)*sqrt(var(x))/sqrt(length(x))\n",
    "  ))\n",
    "}"
   ]
  },
  {
   "cell_type": "code",
   "execution_count": 17,
   "id": "e59a963c",
   "metadata": {},
   "outputs": [
    {
     "data": {
      "text/html": [
       "<style>\n",
       ".dl-inline {width: auto; margin:0; padding: 0}\n",
       ".dl-inline>dt, .dl-inline>dd {float: none; width: auto; display: inline-block}\n",
       ".dl-inline>dt::after {content: \":\\0020\"; padding-right: .5ex}\n",
       ".dl-inline>dt:not(:first-of-type) {padding-left: .5ex}\n",
       "</style><dl class=dl-inline><dt>0%</dt><dd>1</dd><dt>25%</dt><dd>2</dd><dt>50%</dt><dd>3</dd><dt>75%</dt><dd>4.5</dd><dt>100%</dt><dd>12</dd></dl>\n"
      ],
      "text/latex": [
       "\\begin{description*}\n",
       "\\item[0\\textbackslash{}\\%] 1\n",
       "\\item[25\\textbackslash{}\\%] 2\n",
       "\\item[50\\textbackslash{}\\%] 3\n",
       "\\item[75\\textbackslash{}\\%] 4.5\n",
       "\\item[100\\textbackslash{}\\%] 12\n",
       "\\end{description*}\n"
      ],
      "text/markdown": [
       "0%\n",
       ":   125%\n",
       ":   250%\n",
       ":   375%\n",
       ":   4.5100%\n",
       ":   12\n",
       "\n"
      ],
      "text/plain": [
       "  0%  25%  50%  75% 100% \n",
       " 1.0  2.0  3.0  4.5 12.0 "
      ]
     },
     "metadata": {},
     "output_type": "display_data"
    }
   ],
   "source": [
    "x <- c(1,2,3,4,5,6,12,1,2,3,4)\n",
    "quantile(x)"
   ]
  },
  {
   "cell_type": "markdown",
   "id": "faff876b",
   "metadata": {},
   "source": [
    "### rozklad t-studenta "
   ]
  },
  {
   "cell_type": "code",
   "execution_count": 25,
   "id": "89788779",
   "metadata": {},
   "outputs": [
    {
     "data": {
      "text/html": [
       "<style>\n",
       ".list-inline {list-style: none; margin:0; padding: 0}\n",
       ".list-inline>li {display: inline-block}\n",
       ".list-inline>li:not(:last-child)::after {content: \"\\00b7\"; padding: 0 .5ex}\n",
       "</style>\n",
       "<ol class=list-inline><li>-3.07768353717525</li><li>-1.37638192047117</li></ol>\n"
      ],
      "text/latex": [
       "\\begin{enumerate*}\n",
       "\\item -3.07768353717525\n",
       "\\item -1.37638192047117\n",
       "\\end{enumerate*}\n"
      ],
      "text/markdown": [
       "1. -3.07768353717525\n",
       "2. -1.37638192047117\n",
       "\n",
       "\n"
      ],
      "text/plain": [
       "[1] -3.077684 -1.376382"
      ]
     },
     "metadata": {},
     "output_type": "display_data"
    }
   ],
   "source": [
    "# kwantyle rozkladu t-studenta\n",
    "x <- c(0.1,0.2) # prawdopodobienstwa\n",
    "df <- 1 # liczba stopni swobody\n",
    "qt(x,df)"
   ]
  },
  {
   "cell_type": "markdown",
   "id": "354b4ce6",
   "metadata": {},
   "source": [
    "### Rozklad normalny "
   ]
  },
  {
   "cell_type": "code",
   "execution_count": 34,
   "id": "febad971",
   "metadata": {},
   "outputs": [
    {
     "data": {
      "text/html": [
       "<style>\n",
       ".list-inline {list-style: none; margin:0; padding: 0}\n",
       ".list-inline>li {display: inline-block}\n",
       ".list-inline>li:not(:last-child)::after {content: \"\\00b7\"; padding: 0 .5ex}\n",
       "</style>\n",
       "<ol class=list-inline><li>-1.3446546966338</li><li>-0.0248637007187424</li><li>0.926798461875878</li></ol>\n"
      ],
      "text/latex": [
       "\\begin{enumerate*}\n",
       "\\item -1.3446546966338\n",
       "\\item -0.0248637007187424\n",
       "\\item 0.926798461875878\n",
       "\\end{enumerate*}\n"
      ],
      "text/markdown": [
       "1. -1.3446546966338\n",
       "2. -0.0248637007187424\n",
       "3. 0.926798461875878\n",
       "\n",
       "\n"
      ],
      "text/plain": [
       "[1] -1.3446547 -0.0248637  0.9267985"
      ]
     },
     "metadata": {},
     "output_type": "display_data"
    },
    {
     "data": {
      "text/html": [
       "1.95996398454005"
      ],
      "text/latex": [
       "1.95996398454005"
      ],
      "text/markdown": [
       "1.95996398454005"
      ],
      "text/plain": [
       "[1] 1.959964"
      ]
     },
     "metadata": {},
     "output_type": "display_data"
    }
   ],
   "source": [
    "x <- c(0.1,0.2,0.3) # prawdopodobienstwa\n",
    "mean <- 2.5\n",
    "sd <- 3\n",
    "qnorm(x,mean,sd)\n",
    "qnorm(0.975)"
   ]
  },
  {
   "cell_type": "code",
   "execution_count": 42,
   "id": "b17c3957",
   "metadata": {},
   "outputs": [
    {
     "data": {
      "text/html": [
       "1.68487512171122"
      ],
      "text/latex": [
       "1.68487512171122"
      ],
      "text/markdown": [
       "1.68487512171122"
      ],
      "text/plain": [
       "[1] 1.684875"
      ]
     },
     "metadata": {},
     "output_type": "display_data"
    },
    {
     "data": {
      "text/html": [
       "1.64485362695147"
      ],
      "text/latex": [
       "1.64485362695147"
      ],
      "text/markdown": [
       "1.64485362695147"
      ],
      "text/plain": [
       "[1] 1.644854"
      ]
     },
     "metadata": {},
     "output_type": "display_data"
    }
   ],
   "source": [
    "qt(0.95,39)\n",
    "qnorm(0.95)"
   ]
  },
  {
   "cell_type": "code",
   "execution_count": 43,
   "id": "2bfd1916",
   "metadata": {},
   "outputs": [],
   "source": [
    "getVarianceCI <- function(x, alpha) {\n",
    "  n <- length(x)\n",
    "  return (c(var(x)*(n-1)/qchisq(1-alpha/2, n-1), var(x)*(n-1)/qchisq(alpha/2, n-1)))\n",
    "}"
   ]
  },
  {
   "cell_type": "code",
   "execution_count": 47,
   "id": "2d487e05",
   "metadata": {},
   "outputs": [],
   "source": [
    "getMeanCI <- function(x, df=length(x)-1, alpha){\n",
    "  n <- length(x)\n",
    "  return (c(mean(x) - qt(1-alpha/2, df)*sd(x)/ sqrt(n),\n",
    "            mean(x) + qt(1-alpha/2, df)*sd(x)/ sqrt(n))\n",
    "  )\n",
    "}"
   ]
  },
  {
   "cell_type": "code",
   "execution_count": 54,
   "id": "90260c52",
   "metadata": {},
   "outputs": [
    {
     "name": "stderr",
     "output_type": "stream",
     "text": [
      "Warning message in qt(1 - alpha/2, df):\n",
      "“wyprodukowano wartości NaN”\n",
      "Warning message in qt(1 - alpha/2, df):\n",
      "“wyprodukowano wartości NaN”\n"
     ]
    },
    {
     "data": {
      "text/html": [
       "<style>\n",
       ".list-inline {list-style: none; margin:0; padding: 0}\n",
       ".list-inline>li {display: inline-block}\n",
       ".list-inline>li:not(:last-child)::after {content: \"\\00b7\"; padding: 0 .5ex}\n",
       "</style>\n",
       "<ol class=list-inline><li>NaN</li><li>NaN</li></ol>\n"
      ],
      "text/latex": [
       "\\begin{enumerate*}\n",
       "\\item NaN\n",
       "\\item NaN\n",
       "\\end{enumerate*}\n"
      ],
      "text/markdown": [
       "1. NaN\n",
       "2. NaN\n",
       "\n",
       "\n"
      ],
      "text/plain": [
       "[1] NaN NaN"
      ]
     },
     "metadata": {},
     "output_type": "display_data"
    }
   ],
   "source": []
  },
  {
   "cell_type": "code",
   "execution_count": 56,
   "id": "4a51bc6a",
   "metadata": {},
   "outputs": [
    {
     "ename": "ERROR",
     "evalue": "Error in library(DescTools): nie ma pakietu o nazwie ‘DescTools’\n",
     "output_type": "error",
     "traceback": [
      "Error in library(DescTools): nie ma pakietu o nazwie ‘DescTools’\nTraceback:\n",
      "1. library(DescTools)"
     ]
    }
   ],
   "source": [
    "\n",
    "my.VarCI <- function(x, conf.level = 0.95) {\n",
    "  alpha <- 1 - conf.level\n",
    "  n <- length(x)\n",
    "  return (c(var(x)*(n-1)/qchisq(1-alpha/2, n-1), var(x)*(n-1)/qchisq(alpha/2, n-1)))\n",
    "}\n",
    "\n",
    "my.MeanCI <- function(x, conf.level = 0.95, df = length(x) - 1) {\n",
    "  alpha <- 1 - conf.level\n",
    "  n <- length(x)\n",
    "  return (c(mean(x) - qt(1-alpha/2, df)*sd(x)/ sqrt(n),\n",
    "            mean(x) + qt(1-alpha/2, df)*sd(x)/ sqrt(n))\n",
    "  )\n",
    "}\n",
    "\n",
    "my.MeanCIKnownSigma <- function(x, sd, conf.level = 0.95) {\n",
    "  alpha <- 1 - conf.level\n",
    "  n <- length(x)\n",
    "  return (c(mean(x) - qnorm(1 - alpha/2)*sd/sqrt(n),\n",
    "            mean(x) + qnorm(1 - alpha/2)*sd/sqrt(n)))\n",
    "}\n",
    "\n",
    "# dane\n",
    "m = 3\n",
    "sd = 10\n",
    "x <- rnorm(10, m, sd)\n",
    "\n",
    "# przedział ufności wariancji\n",
    "my.VarCI(x, conf.level = 0.9)\n",
    "VarCI(x, conf.level = 0.9)\n",
    "\n",
    "# przedział ufności średniej\n",
    "my.MeanCI(x, conf.level = 0.9)\n",
    "MeanCI(x, conf.level = 0.9)\n",
    "t.test(x, conf.level = 0.9)$conf.int\n",
    "\n",
    "# przedział ufności średniej (znane odchylenie standardowe)\n",
    "my.MeanCIKnownSigma(x, sd, conf.level = 0.9)\n",
    "MeanCI(x, sd = sd, conf.level = 0.9)\n",
    "\n",
    "# DYSTRYBUANTY\n",
    "# normalnego\n",
    "?pnorm\n",
    "# t Studenta\n",
    "?pt\n",
    "# chi kwadrat\n",
    "?pchisq\n",
    "\n",
    "# KWANTYLE\n",
    "# normalnego\n",
    "?qnorm\n",
    "# t Studenta\n",
    "?qt\n",
    "# chi kwadrat\n",
    "?qchisq"
   ]
  },
  {
   "cell_type": "markdown",
   "id": "f2e4f432",
   "metadata": {},
   "source": [
    "qnorm(wartosc_prawdopoodbienstwa) -> zwraca liczbe zmiennej losowej\n",
    "\n",
    "\n",
    "kwantyl rzedu 0.05 -> qnorm(0.05)\n",
    "\n",
    "qt(0.05,n-1).  jak wyzej dla t studenta\n",
    "qchisq(0.95, 39-1)  dla rozkladu chi\n"
   ]
  },
  {
   "cell_type": "markdown",
   "id": "db628a04",
   "metadata": {},
   "source": [
    "pnorm(1.6444)\n",
    "[1] 0.9499532   <<-- odwrotnosc qnorm"
   ]
  }
 ],
 "metadata": {
  "kernelspec": {
   "display_name": "R",
   "language": "R",
   "name": "ir"
  },
  "language_info": {
   "codemirror_mode": "r",
   "file_extension": ".r",
   "mimetype": "text/x-r-source",
   "name": "R",
   "pygments_lexer": "r",
   "version": "4.1.2"
  }
 },
 "nbformat": 4,
 "nbformat_minor": 5
}
